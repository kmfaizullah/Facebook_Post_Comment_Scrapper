{
 "cells": [
  {
   "cell_type": "code",
   "execution_count": 1,
   "metadata": {},
   "outputs": [],
   "source": [
    "import requests\n",
    "from bs4 import BeautifulSoup\n",
    "from LoginSecret import username, password\n",
    "import pandas as pd"
   ]
  },
  {
   "cell_type": "code",
   "execution_count": 2,
   "metadata": {},
   "outputs": [],
   "source": [
    "URL = f'https://mbasic.facebook.com/story.php?story_fbid=3109006692521637&id=1030915846997409&refid=17&_ft_=mf_story_key.3109006692521637%3Atop_level_post_id.3109006692521637%3Atl_objid.3109006692521637%3Acontent_owner_id_new.1030915846997409%3Athrowback_story_fbid.3109006692521637%3Apage_id.1030915846997409%3Astory_location.4%3Atds_flgs.3%3Apage_insights.%7B%221030915846997409%22%3A%7B%22page_id%22%3A1030915846997409%2C%22page_id_type%22%3A%22page%22%2C%22actor_id%22%3A1030915846997409%2C%22dm%22%3A%7B%22isShare%22%3A0%2C%22originalPostOwnerID%22%3A0%7D%2C%22psn%22%3A%22EntStatusCreationStory%22%2C%22post_context%22%3A%7B%22object_fbtype%22%3A266%2C%22publish_time%22%3A1593674858%2C%22story_name%22%3A%22EntStatusCreationStory%22%2C%22story_fbid%22%3A%5B3109006692521637%5D%7D%2C%22role%22%3A1%2C%22sl%22%3A4%2C%22targets%22%3A%5B%7B%22actor_id%22%3A1030915846997409%2C%22page_id%22%3A1030915846997409%2C%22post_id%22%3A3109006692521637%2C%22role%22%3A1%2C%22share_id%22%3A0%7D%5D%7D%7D%3Athid.1030915846997409%3A306061129499414%3A2%3A0%3A1596265199%3A4197325281738412762&__tn__=%2AW-R'"
   ]
  },
  {
   "cell_type": "code",
   "execution_count": 3,
   "metadata": {},
   "outputs": [],
   "source": [
    "def parse_data(post_url):\n",
    "    login_basic_url = 'https://mbasic.facebook.com/login'\n",
    "    login_details = {\n",
    "            'email': username,\n",
    "            'pass': password\n",
    "        }\n",
    "    with requests.Session() as session:\n",
    "        post = session.post(login_basic_url, data=login_details)\n",
    "        parsed_data = session.get(post_url)\n",
    "    return parsed_data  "
   ]
  },
  {
   "cell_type": "code",
   "execution_count": 4,
   "metadata": {},
   "outputs": [],
   "source": [
    "def find_comment(content_url):\n",
    "    comment=[]\n",
    "    person=[]\n",
    "    soup = BeautifulSoup(parse_data(content_url).content, \"html.parser\")\n",
    "    r=soup.select(\".cr.y\")\n",
    "    for y in r:\n",
    "        person.append(y.text)\n",
    "    \n",
    "    result=soup.select(\".cs\")\n",
    "    for res in result:\n",
    "        comment.append(res.text)\n",
    "    return person, comment"
   ]
  },
  {
   "cell_type": "code",
   "execution_count": 5,
   "metadata": {},
   "outputs": [],
   "source": [
    "def data_Csv_save(url):\n",
    "    Person, Comment = find_comment(url)\n",
    "    Person_df = pd.DataFrame(Person,columns= ['Person'])\n",
    "    Comment_df = pd.DataFrame(Comment,columns= ['Comments'])\n",
    "    format_data=pd.concat([Person_df, Comment_df], axis=1)\n",
    "    format_data.to_csv('Facebook_post_comment.csv',index=False)\n",
    "    return format_data"
   ]
  },
  {
   "cell_type": "code",
   "execution_count": 6,
   "metadata": {},
   "outputs": [],
   "source": [
    "data= data_Csv_save(URL)"
   ]
  },
  {
   "cell_type": "code",
   "execution_count": 7,
   "metadata": {},
   "outputs": [
    {
     "data": {
      "text/html": [
       "<div>\n",
       "<style scoped>\n",
       "    .dataframe tbody tr th:only-of-type {\n",
       "        vertical-align: middle;\n",
       "    }\n",
       "\n",
       "    .dataframe tbody tr th {\n",
       "        vertical-align: top;\n",
       "    }\n",
       "\n",
       "    .dataframe thead th {\n",
       "        text-align: right;\n",
       "    }\n",
       "</style>\n",
       "<table border=\"1\" class=\"dataframe\">\n",
       "  <thead>\n",
       "    <tr style=\"text-align: right;\">\n",
       "      <th></th>\n",
       "      <th>Person</th>\n",
       "      <th>Comments</th>\n",
       "    </tr>\n",
       "  </thead>\n",
       "  <tbody>\n",
       "    <tr>\n",
       "      <th>0</th>\n",
       "      <td>Masud Hasan Bijoy</td>\n",
       "      <td>আমি পালি/সংস্কৃত সাহিত্য নিয়ে পড়ে সহকারী সার্জ...</td>\n",
       "    </tr>\n",
       "    <tr>\n",
       "      <th>1</th>\n",
       "      <td>Md Imran Kabir</td>\n",
       "      <td>যারা ডাক্তার, ইঞ্জিনিয়ার বা সায়েন্সের ভালো সাব...</td>\n",
       "    </tr>\n",
       "    <tr>\n",
       "      <th>2</th>\n",
       "      <td>Mahmudul Hasan Dipto</td>\n",
       "      <td>কি অদ্ভুত🙄</td>\n",
       "    </tr>\n",
       "    <tr>\n",
       "      <th>3</th>\n",
       "      <td>Fahad Islam Nobel</td>\n",
       "      <td>ভাইরে ভাই! যেমন সাউয়ার দেশ! যেমন সাউয়ার শিক্ষা...</td>\n",
       "    </tr>\n",
       "    <tr>\n",
       "      <th>4</th>\n",
       "      <td>Sowrob Reja</td>\n",
       "      <td>Lej kata sial</td>\n",
       "    </tr>\n",
       "    <tr>\n",
       "      <th>5</th>\n",
       "      <td>Faisal Nafis</td>\n",
       "      <td>একটু খারাপ ভাষায় বলি ভাই চো*নে না পড়ে যে কেউ স...</td>\n",
       "    </tr>\n",
       "    <tr>\n",
       "      <th>6</th>\n",
       "      <td>Nazrul Islam Rahul</td>\n",
       "      <td>জীবন টা এক তামাশা 😕☹️</td>\n",
       "    </tr>\n",
       "    <tr>\n",
       "      <th>7</th>\n",
       "      <td>Fahad Islam Nobel</td>\n",
       "      <td>ভাই আমি তো SSC এর পরে পড়ালেখা বন্ধ করে দিছি! ক...</td>\n",
       "    </tr>\n",
       "    <tr>\n",
       "      <th>8</th>\n",
       "      <td>Shahadat Hossain</td>\n",
       "      <td>md. Md. Shahin Alom</td>\n",
       "    </tr>\n",
       "    <tr>\n",
       "      <th>9</th>\n",
       "      <td>Rayhan Rafi</td>\n",
       "      <td>Ajaira post</td>\n",
       "    </tr>\n",
       "  </tbody>\n",
       "</table>\n",
       "</div>"
      ],
      "text/plain": [
       "                 Person                                           Comments\n",
       "0     Masud Hasan Bijoy  আমি পালি/সংস্কৃত সাহিত্য নিয়ে পড়ে সহকারী সার্জ...\n",
       "1        Md Imran Kabir  যারা ডাক্তার, ইঞ্জিনিয়ার বা সায়েন্সের ভালো সাব...\n",
       "2  Mahmudul Hasan Dipto                                         কি অদ্ভুত🙄\n",
       "3     Fahad Islam Nobel  ভাইরে ভাই! যেমন সাউয়ার দেশ! যেমন সাউয়ার শিক্ষা...\n",
       "4           Sowrob Reja                                      Lej kata sial\n",
       "5          Faisal Nafis  একটু খারাপ ভাষায় বলি ভাই চো*নে না পড়ে যে কেউ স...\n",
       "6    Nazrul Islam Rahul                              জীবন টা এক তামাশা 😕☹️\n",
       "7     Fahad Islam Nobel  ভাই আমি তো SSC এর পরে পড়ালেখা বন্ধ করে দিছি! ক...\n",
       "8      Shahadat Hossain                                md. Md. Shahin Alom\n",
       "9           Rayhan Rafi                                        Ajaira post"
      ]
     },
     "execution_count": 7,
     "metadata": {},
     "output_type": "execute_result"
    }
   ],
   "source": [
    "data"
   ]
  },
  {
   "cell_type": "code",
   "execution_count": null,
   "metadata": {},
   "outputs": [],
   "source": []
  }
 ],
 "metadata": {
  "kernelspec": {
   "display_name": "Python 3",
   "language": "python",
   "name": "python3"
  },
  "language_info": {
   "codemirror_mode": {
    "name": "ipython",
    "version": 3
   },
   "file_extension": ".py",
   "mimetype": "text/x-python",
   "name": "python",
   "nbconvert_exporter": "python",
   "pygments_lexer": "ipython3",
   "version": "3.7.6"
  }
 },
 "nbformat": 4,
 "nbformat_minor": 4
}
